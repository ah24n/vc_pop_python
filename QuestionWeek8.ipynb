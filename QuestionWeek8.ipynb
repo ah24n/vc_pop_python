{
 "cells": [
  {
   "cell_type": "code",
   "execution_count": 17,
   "metadata": {},
   "outputs": [],
   "source": [
    "shopping_cart = []"
   ]
  },
  {
   "cell_type": "code",
   "execution_count": 18,
   "metadata": {},
   "outputs": [],
   "source": [
    "first_item = {'item_name' : 'Apple', 'quantity' : '5', 'unitprice' : '5.5'}\n",
    "second_item = {'item_name' : 'Banana', 'quantity' : '5', 'unitprice' : '3.5'}\n",
    "third_time = {'item_name' : 'Cherry', 'quantity' : '5', 'unitprice' : '2.5'}\n",
    "fourth_item = {'item_name' : 'Pineapple', 'quantity' : '5', 'unitprice' : '7.5'}\n",
    "fifth_item = {'item_name' : 'Watermelon', 'quantity' : '5', 'unitprice' : '10.0'}"
   ]
  },
  {
   "cell_type": "code",
   "execution_count": 19,
   "metadata": {},
   "outputs": [],
   "source": [
    "shopping_cart.append(first_item)\n",
    "shopping_cart.append(second_item)\n",
    "shopping_cart.append(third_time)\n",
    "shopping_cart.append(fourth_item)\n",
    "shopping_cart.append(fifth_item)"
   ]
  },
  {
   "cell_type": "code",
   "execution_count": 21,
   "metadata": {},
   "outputs": [
    {
     "data": {
      "text/plain": [
       "[{'item_name': 'Apple', 'quantity': '5', 'unitprice': '5.5'},\n",
       " {'item_name': 'Banana', 'quantity': '5', 'unitprice': '3.5'},\n",
       " {'item_name': 'Cherry', 'quantity': '5', 'unitprice': '2.5'},\n",
       " {'item_name': 'Pineapple', 'quantity': '5', 'unitprice': '7.5'},\n",
       " {'item_name': 'Watermelon', 'quantity': '5', 'unitprice': '10.0'}]"
      ]
     },
     "execution_count": 21,
     "metadata": {},
     "output_type": "execute_result"
    }
   ],
   "source": [
    "shopping_cart"
   ]
  },
  {
   "cell_type": "code",
   "execution_count": 38,
   "metadata": {},
   "outputs": [],
   "source": [
    "class Fruit:\n",
    "    def __init__(self, name, quantity, price):\n",
    "        self.name = name\n",
    "        self.quantity = quantity\n",
    "        self.price = price\n",
    "    def print(self):\n",
    "        print(self.name + \" \" + self.quantity, \" \", self.price)"
   ]
  },
  {
   "cell_type": "code",
   "execution_count": 39,
   "metadata": {},
   "outputs": [],
   "source": [
    "Orange = Fruit('Orange', 23, 12.5)"
   ]
  },
  {
   "cell_type": "code",
   "execution_count": null,
   "metadata": {},
   "outputs": [],
   "source": []
  }
 ],
 "metadata": {
  "kernelspec": {
   "display_name": "Python 3",
   "language": "python",
   "name": "python3"
  },
  "language_info": {
   "codemirror_mode": {
    "name": "ipython",
    "version": 3
   },
   "file_extension": ".py",
   "mimetype": "text/x-python",
   "name": "python",
   "nbconvert_exporter": "python",
   "pygments_lexer": "ipython3",
   "version": "3.10.4"
  },
  "orig_nbformat": 4
 },
 "nbformat": 4,
 "nbformat_minor": 2
}
